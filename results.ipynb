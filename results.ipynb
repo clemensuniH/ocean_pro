{
 "cells": [
  {
   "cell_type": "code",
   "execution_count": 38,
   "metadata": {
    "collapsed": true
   },
   "outputs": [],
   "source": [
    "import numpy as np\n",
    "import matplotlib.pyplot as plt\n",
    "from matplotlib.animation import FuncAnimation\n",
    "import tools\n",
    "import importlib"
   ]
  },
  {
   "cell_type": "code",
   "execution_count": 55,
   "outputs": [
    {
     "data": {
      "text/plain": "<module 'tools' from '/Users/clemensrohling/PycharmProjects/Ocean_Model/tools.py'>"
     },
     "execution_count": 55,
     "metadata": {},
     "output_type": "execute_result"
    }
   ],
   "source": [
    "importlib.reload(tools)"
   ],
   "metadata": {
    "collapsed": false
   }
  },
  {
   "cell_type": "markdown",
   "source": [],
   "metadata": {
    "collapsed": false
   }
  },
  {
   "cell_type": "code",
   "execution_count": 40,
   "outputs": [],
   "source": [
    "S_1 =   [35.9, 0.96, 0.96, 35.8, 0.95]\n",
    "S_2 =   [36.4, 1.4, 1.75, 36.5, 1.59]\n",
    "z =     [0.08, 0.08, 0.07, 0.06, 0.08]\n",
    "T_1 =   [0.0, 0.0, 8, 14, 17]\n",
    "T_2 =   [28, 0.0, 29, 27, 19.5, 28]"
   ],
   "metadata": {
    "collapsed": false
   }
  },
  {
   "cell_type": "code",
   "execution_count": 43,
   "outputs": [
    {
     "name": "stdout",
     "output_type": "stream",
     "text": [
      "5.238001176356159\n",
      "6.135524662220377\n"
     ]
    }
   ],
   "source": [
    "k = tools.fastes_growing_k(0.95, 1.58, 16.2, 28, 0.07, 0)\n",
    "k2 = tools.fastes_growing_k(0.96, 1.75, 8, 29, 0.07, 0)"
   ],
   "metadata": {
    "collapsed": false
   }
  },
  {
   "cell_type": "code",
   "execution_count": 44,
   "outputs": [
    {
     "data": {
      "text/plain": "8.434147303987912"
     },
     "execution_count": 44,
     "metadata": {},
     "output_type": "execute_result"
    }
   ],
   "source": [
    "2*np.pi/k2 * 1000"
   ],
   "metadata": {
    "collapsed": false
   }
  },
  {
   "cell_type": "code",
   "execution_count": 68,
   "outputs": [
    {
     "name": "stdout",
     "output_type": "stream",
     "text": [
      "R_rho:  3.024350676323253\n",
      "11.697363108554026\n"
     ]
    }
   ],
   "source": [
    "k = tools.fastes_growing_k(0.95, 1.58, 22, 28, 0.08, 0)\n",
    "print(2*np.pi/k * 1000)"
   ],
   "metadata": {
    "collapsed": false
   }
  },
  {
   "cell_type": "code",
   "execution_count": null,
   "outputs": [],
   "source": [],
   "metadata": {
    "collapsed": false
   }
  }
 ],
 "metadata": {
  "kernelspec": {
   "display_name": "Python 3",
   "language": "python",
   "name": "python3"
  },
  "language_info": {
   "codemirror_mode": {
    "name": "ipython",
    "version": 2
   },
   "file_extension": ".py",
   "mimetype": "text/x-python",
   "name": "python",
   "nbconvert_exporter": "python",
   "pygments_lexer": "ipython2",
   "version": "2.7.6"
  }
 },
 "nbformat": 4,
 "nbformat_minor": 0
}
